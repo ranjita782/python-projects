{
  "cells": [
    {
      "cell_type": "markdown",
      "metadata": {
        "id": "view-in-github",
        "colab_type": "text"
      },
      "source": [
        "<a href=\"https://colab.research.google.com/github/ranjita782/python-projects/blob/main/ola_preprocessing.ipynb\" target=\"_parent\"><img src=\"https://colab.research.google.com/assets/colab-badge.svg\" alt=\"Open In Colab\"/></a>"
      ]
    },
    {
      "cell_type": "code",
      "execution_count": 1,
      "metadata": {
        "id": "wbWRKLzIHUXA",
        "colab": {
          "base_uri": "https://localhost:8080/"
        },
        "outputId": "5838da61-18ae-4c91-b2ff-16ac3b0840d9"
      },
      "outputs": [
        {
          "output_type": "stream",
          "name": "stdout",
          "text": [
            "Downloading...\n",
            "From: https://drive.google.com/uc?id=194oiYUx917jxPLvqnFPtPDi3n09Ullkj\n",
            "To: /content/ola.csv\n",
            "\r  0% 0.00/1.13M [00:00<?, ?B/s]\r100% 1.13M/1.13M [00:00<00:00, 22.4MB/s]\n"
          ]
        }
      ],
      "source": [
        "!gdown 194oiYUx917jxPLvqnFPtPDi3n09Ullkj"
      ]
    },
    {
      "cell_type": "code",
      "execution_count": 2,
      "metadata": {
        "id": "WZMCe44QHffo"
      },
      "outputs": [],
      "source": [
        "#Header files\n",
        "import numpy as np\n",
        "import pandas as pd\n",
        "import matplotlib.pyplot as plt\n",
        "import seaborn as sns\n",
        "import warnings\n",
        "warnings.filterwarnings('ignore')\n",
        "from sklearn.impute import SimpleImputer\n",
        "from sklearn.preprocessing import MinMaxScaler\n",
        "from sklearn.model_selection import train_test_split\n",
        "import math\n",
        "from scipy.stats import ttest_ind\n",
        "from scipy.stats import ttest_rel\n",
        "from scipy.stats import chi2,chi2_contingency,f_oneway,kruskal,shapiro\n",
        "from sklearn.linear_model import LinearRegression\n",
        "from sklearn.preprocessing import StandardScaler\n",
        "import statsmodels.api as sm"
      ]
    },
    {
      "cell_type": "code",
      "execution_count": 51,
      "metadata": {
        "id": "C1c3OqtzH6L9"
      },
      "outputs": [],
      "source": [
        "# Import the dataset\n",
        "df=pd.read_csv('ola.csv')"
      ]
    },
    {
      "cell_type": "code",
      "source": [
        "#2.1 Drop any irrelevant column present in the dataset.\n",
        "df = df.drop(columns=['Unnamed: 0'])\n",
        "df.drop(['LastWorkingDate', 'MMM-YY','Dateofjoining'], axis=1, inplace=True)\n",
        "#Check the shape of the dataset after dropping the column.\n",
        "df.shape"
      ],
      "metadata": {
        "id": "h-gmgmU6Un-J",
        "colab": {
          "base_uri": "https://localhost:8080/"
        },
        "outputId": "8159ed21-3348-4b37-f23f-3a1786d86ed7"
      },
      "execution_count": 52,
      "outputs": [
        {
          "output_type": "execute_result",
          "data": {
            "text/plain": [
              "(19104, 10)"
            ]
          },
          "metadata": {},
          "execution_count": 52
        }
      ]
    },
    {
      "cell_type": "code",
      "source": [
        "numerical_cols=df.select_dtypes(include=['number']).columns\n",
        "categorical_cols = df.select_dtypes(include=['object']).columns\n",
        "datetime_cols = df.select_dtypes(include=['datetime']).columns"
      ],
      "metadata": {
        "id": "dxURIS8M0Xqp"
      },
      "execution_count": 53,
      "outputs": []
    },
    {
      "cell_type": "code",
      "source": [
        "aggregated_df = df.groupby('Driver_ID').agg({\n",
        "    'Age': 'mean',\n",
        "    'City': lambda x: x.mode()[0],    # Most frequent\n",
        "    'Education_Level': lambda x: x.mode()[0],  # Most frequent education level\n",
        "    'Income': 'mean',\n",
        "    'Joining Designation': lambda x: x.mode()[0],  # Most frequent designation\n",
        "    'Grade': 'mean',\n",
        "    'Quarterly Rating': 'mean'\n",
        "}).reset_index()"
      ],
      "metadata": {
        "id": "t2xsx4KXNRdP"
      },
      "execution_count": 54,
      "outputs": []
    },
    {
      "cell_type": "markdown",
      "source": [
        "\n"
      ],
      "metadata": {
        "id": "_zWPeUpC_mnp"
      }
    },
    {
      "cell_type": "code",
      "source": [
        "aggregated_df = pd.DataFrame(aggregated_df)\n",
        "merged_df = df.merge(aggregated_df, on='Driver_ID', suffixes=('', '_aggregated'),how='left')\n",
        "columns_to_drop = ['Age', 'City','Income','Education_Level','Joining Designation', 'Grade', 'Quarterly Rating']\n",
        "df= merged_df.drop(columns=columns_to_drop)\n",
        "df=pd.DataFrame(df)"
      ],
      "metadata": {
        "id": "BUri1y3hNVc_"
      },
      "execution_count": 55,
      "outputs": []
    },
    {
      "cell_type": "markdown",
      "source": [
        "The aggregation based on Driver_ID was done for attaining the uniqueness in  the  dataset.It also helped to identify consistent behaviors and patterns of their working.We were able to merge rows that have the same Driver_ID based on our desired aggregation rules.The groupby method aggregated the data by Driver_ID, keeping the mean of Income, the mode of Grade and the Quarterly_Rating columns."
      ],
      "metadata": {
        "id": "twAByCzgAqk9"
      }
    },
    {
      "cell_type": "code",
      "source": [
        "# Created a dictionary to map old column names to new ones by removing the '_aggregated' suffix\n",
        "rename_columns = {col: col.replace('_aggregated', '') for col in df.columns if '_aggregated' in col}\n",
        "df.rename(columns=rename_columns, inplace=True)\n",
        "print(df.columns)\n"
      ],
      "metadata": {
        "id": "EDwdgIxAUCIQ",
        "colab": {
          "base_uri": "https://localhost:8080/"
        },
        "outputId": "7c3047b6-b0f2-4e77-8b3b-f4006bbb05b9"
      },
      "execution_count": 56,
      "outputs": [
        {
          "output_type": "stream",
          "name": "stdout",
          "text": [
            "Index(['Driver_ID', 'Gender', 'Total Business Value', 'Age', 'City',\n",
            "       'Education_Level', 'Income', 'Joining Designation', 'Grade',\n",
            "       'Quarterly Rating'],\n",
            "      dtype='object')\n"
          ]
        }
      ]
    },
    {
      "cell_type": "code",
      "source": [
        "# One-Hot Encoding for Categorical variable\n",
        "df = pd.get_dummies(df, columns=['City'])\n",
        "# Assuming df is your DataFrame and you want to convert all Boolean columns\n",
        "boolean_columns = df.select_dtypes(include=[bool]).columns\n",
        "df[boolean_columns] = df[boolean_columns].astype(int)"
      ],
      "metadata": {
        "id": "f7bVeyGv2RmZ"
      },
      "execution_count": 57,
      "outputs": []
    },
    {
      "cell_type": "code",
      "source": [
        "# Scalarization using standard scaler\n",
        "numerical_data = df[numerical_cols]\n",
        "from sklearn.preprocessing import StandardScaler\n",
        "\n",
        "# Standardize the numerical data\n",
        "scaler = StandardScaler()\n",
        "numerical_data_scaled = scaler.fit_transform(numerical_data)"
      ],
      "metadata": {
        "id": "zWBquz0y6DPK"
      },
      "execution_count": 58,
      "outputs": []
    },
    {
      "cell_type": "code",
      "source": [
        "#Imputation done using kNN\n",
        "from sklearn.impute import KNNImputer\n",
        "\n",
        "# Initialize KNN Imputer\n",
        "imputer = KNNImputer(n_neighbors=5)\n",
        "imputed_data = imputer.fit_transform(numerical_data_scaled)\n",
        "imputed_df = pd.DataFrame(imputed_data, columns=numerical_cols)\n",
        "imputed_df = pd.DataFrame(scaler.inverse_transform(imputed_df), columns=numerical_cols)\n",
        "df[numerical_cols] = imputed_df"
      ],
      "metadata": {
        "id": "LI6yGEoH6HCa"
      },
      "execution_count": 60,
      "outputs": []
    },
    {
      "cell_type": "code",
      "source": [
        "# 4.3 Function to detect and handle outliers using IQR method\n",
        "def handle_outliers(column):\n",
        "    Q1 = df[column].quantile(0.25)\n",
        "    Q3 = df[column].quantile(0.75)\n",
        "    IQR = Q3 - Q1\n",
        "    lower_bound = Q1 - 1.5 * IQR\n",
        "    upper_bound = Q3 + 1.5 * IQR\n",
        "\n",
        "    # Capping outliers\n",
        "    df[column] = np.where(df[column] > upper_bound, upper_bound, df[column])\n",
        "    df[column] = np.where(df[column] < lower_bound, lower_bound, df[column])\n",
        "\n",
        "# List of numerical columns to check for outliers\n",
        "numerical_cols = df.select_dtypes(include=['number']).columns\n",
        "\n",
        "# Handle outliers for each numerical column\n",
        "for column in numerical_cols:\n",
        "    handle_outliers(column)"
      ],
      "metadata": {
        "id": "-8wU2MjjaoMD"
      },
      "execution_count": 61,
      "outputs": []
    },
    {
      "cell_type": "code",
      "source": [
        "df.to_csv('newola.csv', index=False)"
      ],
      "metadata": {
        "id": "ncNRLO38hgv-"
      },
      "execution_count": 62,
      "outputs": []
    },
    {
      "cell_type": "code",
      "source": [
        "df=pd.read_csv('newola.csv')"
      ],
      "metadata": {
        "id": "poWrBxtKyg7y"
      },
      "execution_count": 63,
      "outputs": []
    },
    {
      "cell_type": "code",
      "source": [
        "# Calculate change within each Driver_ID group\n",
        "df['Income_Change'] = df.groupby('Driver_ID')['Income'].diff()\n",
        "df['Declining_Income'] = (df['Income_Change'] < 0).astype(int)\n",
        "\n",
        "df['TBV_Change'] = df.groupby('Driver_ID')['Total Business Value'].diff()\n",
        "df['Declining_TBV'] = (df['TBV_Change'] < 0).astype(int)\n",
        "\n",
        "df['QR_Change'] = df.groupby('Driver_ID')['Quarterly Rating'].diff()\n",
        "df['Declining_Quarterly_Rating'] = (df['QR_Change'] < 0).astype(int)\n"
      ],
      "metadata": {
        "id": "sx-ais3lhd2q"
      },
      "execution_count": 67,
      "outputs": []
    },
    {
      "cell_type": "code",
      "source": [
        "# Step 3: Identify drivers with declining metrics before churn\n",
        "df['Likely_to_Churn'] = ((df['Declining_Income'] == 1) |\n",
        "                         (df['Declining_TBV'] == 1) |\n",
        "                         (df['Declining_Quarterly_Rating'] == 1)).astype(int)\n",
        "\n",
        "df['Final_Churn_Prediction'] = df.apply(lambda x: 1 if  x['Likely_to_Churn'] == 1 else 0, axis=1)"
      ],
      "metadata": {
        "id": "EbgMdRiFf-Ko"
      },
      "execution_count": 68,
      "outputs": []
    },
    {
      "cell_type": "code",
      "source": [
        "# Impute with mean or median\n",
        "df['Income_Change'].fillna(df['Declining_Income'].mean(), inplace=True)\n",
        "df['TBV_Change'].fillna(df['Declining_TBV'].mean(), inplace=True)\n",
        "df['QR_Change'].fillna(df['Declining_Quarterly_Rating'].mean(), inplace=True)\n"
      ],
      "metadata": {
        "id": "Q7zVys8yNWRF"
      },
      "execution_count": 69,
      "outputs": []
    },
    {
      "cell_type": "code",
      "source": [
        "df = df.drop_duplicates(subset='Driver_ID', keep='last')"
      ],
      "metadata": {
        "id": "WOAxPM6LqsD3"
      },
      "execution_count": 70,
      "outputs": []
    },
    {
      "cell_type": "code",
      "source": [
        "df['Final_Churn_Prediction'].groupby(df['Final_Churn_Prediction']).count()"
      ],
      "metadata": {
        "colab": {
          "base_uri": "https://localhost:8080/",
          "height": 178
        },
        "id": "Nhra23k0mz_c",
        "outputId": "39596a36-ba30-46e1-9b0b-92f2642fc652"
      },
      "execution_count": 71,
      "outputs": [
        {
          "output_type": "execute_result",
          "data": {
            "text/plain": [
              "Final_Churn_Prediction\n",
              "0    1609\n",
              "1     772\n",
              "Name: Final_Churn_Prediction, dtype: int64"
            ],
            "text/html": [
              "<div>\n",
              "<style scoped>\n",
              "    .dataframe tbody tr th:only-of-type {\n",
              "        vertical-align: middle;\n",
              "    }\n",
              "\n",
              "    .dataframe tbody tr th {\n",
              "        vertical-align: top;\n",
              "    }\n",
              "\n",
              "    .dataframe thead th {\n",
              "        text-align: right;\n",
              "    }\n",
              "</style>\n",
              "<table border=\"1\" class=\"dataframe\">\n",
              "  <thead>\n",
              "    <tr style=\"text-align: right;\">\n",
              "      <th></th>\n",
              "      <th>Final_Churn_Prediction</th>\n",
              "    </tr>\n",
              "    <tr>\n",
              "      <th>Final_Churn_Prediction</th>\n",
              "      <th></th>\n",
              "    </tr>\n",
              "  </thead>\n",
              "  <tbody>\n",
              "    <tr>\n",
              "      <th>0</th>\n",
              "      <td>1609</td>\n",
              "    </tr>\n",
              "    <tr>\n",
              "      <th>1</th>\n",
              "      <td>772</td>\n",
              "    </tr>\n",
              "  </tbody>\n",
              "</table>\n",
              "</div><br><label><b>dtype:</b> int64</label>"
            ]
          },
          "metadata": {},
          "execution_count": 71
        }
      ]
    },
    {
      "cell_type": "code",
      "source": [
        "df['Income_Change'].unique()"
      ],
      "metadata": {
        "id": "V920v-2HX5a1",
        "colab": {
          "base_uri": "https://localhost:8080/"
        },
        "outputId": "05620699-fab5-4ec8-ab20-4ed616bea448"
      },
      "execution_count": 72,
      "outputs": [
        {
          "output_type": "execute_result",
          "data": {
            "text/plain": [
              "array([0.])"
            ]
          },
          "metadata": {},
          "execution_count": 72
        }
      ]
    },
    {
      "cell_type": "code",
      "source": [
        "df['Final_Churn_Prediction'].count()"
      ],
      "metadata": {
        "colab": {
          "base_uri": "https://localhost:8080/"
        },
        "id": "sIPyAGfIp6wO",
        "outputId": "385ff0c5-75ac-41eb-db32-7fb2e5146f9a"
      },
      "execution_count": 73,
      "outputs": [
        {
          "output_type": "execute_result",
          "data": {
            "text/plain": [
              "2381"
            ]
          },
          "metadata": {},
          "execution_count": 73
        }
      ]
    },
    {
      "cell_type": "code",
      "source": [
        "df.isna().sum()"
      ],
      "metadata": {
        "colab": {
          "base_uri": "https://localhost:8080/",
          "height": 1000
        },
        "id": "pxKxYe6uuEU8",
        "outputId": "1b0f7dc5-0955-472c-8fc7-ca23ebaca7ea"
      },
      "execution_count": 74,
      "outputs": [
        {
          "output_type": "execute_result",
          "data": {
            "text/plain": [
              "Driver_ID                     0\n",
              "Gender                        0\n",
              "Total Business Value          0\n",
              "Age                           0\n",
              "Education_Level               0\n",
              "Income                        0\n",
              "Joining Designation           0\n",
              "Grade                         0\n",
              "Quarterly Rating              0\n",
              "City_C1                       0\n",
              "City_C10                      0\n",
              "City_C11                      0\n",
              "City_C12                      0\n",
              "City_C13                      0\n",
              "City_C14                      0\n",
              "City_C15                      0\n",
              "City_C16                      0\n",
              "City_C17                      0\n",
              "City_C18                      0\n",
              "City_C19                      0\n",
              "City_C2                       0\n",
              "City_C20                      0\n",
              "City_C21                      0\n",
              "City_C22                      0\n",
              "City_C23                      0\n",
              "City_C24                      0\n",
              "City_C25                      0\n",
              "City_C26                      0\n",
              "City_C27                      0\n",
              "City_C28                      0\n",
              "City_C29                      0\n",
              "City_C3                       0\n",
              "City_C4                       0\n",
              "City_C5                       0\n",
              "City_C6                       0\n",
              "City_C7                       0\n",
              "City_C8                       0\n",
              "City_C9                       0\n",
              "Income_Change                 0\n",
              "Declining_Income              0\n",
              "TBV_Change                    0\n",
              "Declining_TBV                 0\n",
              "QR_Change                     0\n",
              "Declining_Quarterly_Rating    0\n",
              "Likely_to_Churn               0\n",
              "Final_Churn_Prediction        0\n",
              "dtype: int64"
            ],
            "text/html": [
              "<div>\n",
              "<style scoped>\n",
              "    .dataframe tbody tr th:only-of-type {\n",
              "        vertical-align: middle;\n",
              "    }\n",
              "\n",
              "    .dataframe tbody tr th {\n",
              "        vertical-align: top;\n",
              "    }\n",
              "\n",
              "    .dataframe thead th {\n",
              "        text-align: right;\n",
              "    }\n",
              "</style>\n",
              "<table border=\"1\" class=\"dataframe\">\n",
              "  <thead>\n",
              "    <tr style=\"text-align: right;\">\n",
              "      <th></th>\n",
              "      <th>0</th>\n",
              "    </tr>\n",
              "  </thead>\n",
              "  <tbody>\n",
              "    <tr>\n",
              "      <th>Driver_ID</th>\n",
              "      <td>0</td>\n",
              "    </tr>\n",
              "    <tr>\n",
              "      <th>Gender</th>\n",
              "      <td>0</td>\n",
              "    </tr>\n",
              "    <tr>\n",
              "      <th>Total Business Value</th>\n",
              "      <td>0</td>\n",
              "    </tr>\n",
              "    <tr>\n",
              "      <th>Age</th>\n",
              "      <td>0</td>\n",
              "    </tr>\n",
              "    <tr>\n",
              "      <th>Education_Level</th>\n",
              "      <td>0</td>\n",
              "    </tr>\n",
              "    <tr>\n",
              "      <th>Income</th>\n",
              "      <td>0</td>\n",
              "    </tr>\n",
              "    <tr>\n",
              "      <th>Joining Designation</th>\n",
              "      <td>0</td>\n",
              "    </tr>\n",
              "    <tr>\n",
              "      <th>Grade</th>\n",
              "      <td>0</td>\n",
              "    </tr>\n",
              "    <tr>\n",
              "      <th>Quarterly Rating</th>\n",
              "      <td>0</td>\n",
              "    </tr>\n",
              "    <tr>\n",
              "      <th>City_C1</th>\n",
              "      <td>0</td>\n",
              "    </tr>\n",
              "    <tr>\n",
              "      <th>City_C10</th>\n",
              "      <td>0</td>\n",
              "    </tr>\n",
              "    <tr>\n",
              "      <th>City_C11</th>\n",
              "      <td>0</td>\n",
              "    </tr>\n",
              "    <tr>\n",
              "      <th>City_C12</th>\n",
              "      <td>0</td>\n",
              "    </tr>\n",
              "    <tr>\n",
              "      <th>City_C13</th>\n",
              "      <td>0</td>\n",
              "    </tr>\n",
              "    <tr>\n",
              "      <th>City_C14</th>\n",
              "      <td>0</td>\n",
              "    </tr>\n",
              "    <tr>\n",
              "      <th>City_C15</th>\n",
              "      <td>0</td>\n",
              "    </tr>\n",
              "    <tr>\n",
              "      <th>City_C16</th>\n",
              "      <td>0</td>\n",
              "    </tr>\n",
              "    <tr>\n",
              "      <th>City_C17</th>\n",
              "      <td>0</td>\n",
              "    </tr>\n",
              "    <tr>\n",
              "      <th>City_C18</th>\n",
              "      <td>0</td>\n",
              "    </tr>\n",
              "    <tr>\n",
              "      <th>City_C19</th>\n",
              "      <td>0</td>\n",
              "    </tr>\n",
              "    <tr>\n",
              "      <th>City_C2</th>\n",
              "      <td>0</td>\n",
              "    </tr>\n",
              "    <tr>\n",
              "      <th>City_C20</th>\n",
              "      <td>0</td>\n",
              "    </tr>\n",
              "    <tr>\n",
              "      <th>City_C21</th>\n",
              "      <td>0</td>\n",
              "    </tr>\n",
              "    <tr>\n",
              "      <th>City_C22</th>\n",
              "      <td>0</td>\n",
              "    </tr>\n",
              "    <tr>\n",
              "      <th>City_C23</th>\n",
              "      <td>0</td>\n",
              "    </tr>\n",
              "    <tr>\n",
              "      <th>City_C24</th>\n",
              "      <td>0</td>\n",
              "    </tr>\n",
              "    <tr>\n",
              "      <th>City_C25</th>\n",
              "      <td>0</td>\n",
              "    </tr>\n",
              "    <tr>\n",
              "      <th>City_C26</th>\n",
              "      <td>0</td>\n",
              "    </tr>\n",
              "    <tr>\n",
              "      <th>City_C27</th>\n",
              "      <td>0</td>\n",
              "    </tr>\n",
              "    <tr>\n",
              "      <th>City_C28</th>\n",
              "      <td>0</td>\n",
              "    </tr>\n",
              "    <tr>\n",
              "      <th>City_C29</th>\n",
              "      <td>0</td>\n",
              "    </tr>\n",
              "    <tr>\n",
              "      <th>City_C3</th>\n",
              "      <td>0</td>\n",
              "    </tr>\n",
              "    <tr>\n",
              "      <th>City_C4</th>\n",
              "      <td>0</td>\n",
              "    </tr>\n",
              "    <tr>\n",
              "      <th>City_C5</th>\n",
              "      <td>0</td>\n",
              "    </tr>\n",
              "    <tr>\n",
              "      <th>City_C6</th>\n",
              "      <td>0</td>\n",
              "    </tr>\n",
              "    <tr>\n",
              "      <th>City_C7</th>\n",
              "      <td>0</td>\n",
              "    </tr>\n",
              "    <tr>\n",
              "      <th>City_C8</th>\n",
              "      <td>0</td>\n",
              "    </tr>\n",
              "    <tr>\n",
              "      <th>City_C9</th>\n",
              "      <td>0</td>\n",
              "    </tr>\n",
              "    <tr>\n",
              "      <th>Income_Change</th>\n",
              "      <td>0</td>\n",
              "    </tr>\n",
              "    <tr>\n",
              "      <th>Declining_Income</th>\n",
              "      <td>0</td>\n",
              "    </tr>\n",
              "    <tr>\n",
              "      <th>TBV_Change</th>\n",
              "      <td>0</td>\n",
              "    </tr>\n",
              "    <tr>\n",
              "      <th>Declining_TBV</th>\n",
              "      <td>0</td>\n",
              "    </tr>\n",
              "    <tr>\n",
              "      <th>QR_Change</th>\n",
              "      <td>0</td>\n",
              "    </tr>\n",
              "    <tr>\n",
              "      <th>Declining_Quarterly_Rating</th>\n",
              "      <td>0</td>\n",
              "    </tr>\n",
              "    <tr>\n",
              "      <th>Likely_to_Churn</th>\n",
              "      <td>0</td>\n",
              "    </tr>\n",
              "    <tr>\n",
              "      <th>Final_Churn_Prediction</th>\n",
              "      <td>0</td>\n",
              "    </tr>\n",
              "  </tbody>\n",
              "</table>\n",
              "</div><br><label><b>dtype:</b> int64</label>"
            ]
          },
          "metadata": {},
          "execution_count": 74
        }
      ]
    },
    {
      "cell_type": "code",
      "source": [
        "# Columns that should remain integers\n",
        "int_cols = ['Age','Driver_ID','Gender','Education_Level','Grade','Joining Designation', 'Quarterly Rating']\n",
        "\n",
        "# Convert them back to integer type\n",
        "df[int_cols] = df[int_cols].astype('int')\n"
      ],
      "metadata": {
        "id": "HNgigbp6FlJV"
      },
      "execution_count": 75,
      "outputs": []
    },
    {
      "cell_type": "code",
      "source": [
        "# Check if any row has NaN values\n",
        "rows_with_nan = df[df.isna().any(axis=1)]\n",
        "(rows_with_nan)"
      ],
      "metadata": {
        "colab": {
          "base_uri": "https://localhost:8080/",
          "height": 134
        },
        "id": "v2O5ATO1OPgz",
        "outputId": "f0925dab-8b29-4f8a-f373-b72f5ae49205"
      },
      "execution_count": 76,
      "outputs": [
        {
          "output_type": "execute_result",
          "data": {
            "text/plain": [
              "Empty DataFrame\n",
              "Columns: [Driver_ID, Gender, Total Business Value, Age, Education_Level, Income, Joining Designation, Grade, Quarterly Rating, City_C1, City_C10, City_C11, City_C12, City_C13, City_C14, City_C15, City_C16, City_C17, City_C18, City_C19, City_C2, City_C20, City_C21, City_C22, City_C23, City_C24, City_C25, City_C26, City_C27, City_C28, City_C29, City_C3, City_C4, City_C5, City_C6, City_C7, City_C8, City_C9, Income_Change, Declining_Income, TBV_Change, Declining_TBV, QR_Change, Declining_Quarterly_Rating, Likely_to_Churn, Final_Churn_Prediction]\n",
              "Index: []\n",
              "\n",
              "[0 rows x 46 columns]"
            ],
            "text/html": [
              "\n",
              "  <div id=\"df-1bdca13c-16b1-48b4-9c24-82f4f52a0aac\" class=\"colab-df-container\">\n",
              "    <div>\n",
              "<style scoped>\n",
              "    .dataframe tbody tr th:only-of-type {\n",
              "        vertical-align: middle;\n",
              "    }\n",
              "\n",
              "    .dataframe tbody tr th {\n",
              "        vertical-align: top;\n",
              "    }\n",
              "\n",
              "    .dataframe thead th {\n",
              "        text-align: right;\n",
              "    }\n",
              "</style>\n",
              "<table border=\"1\" class=\"dataframe\">\n",
              "  <thead>\n",
              "    <tr style=\"text-align: right;\">\n",
              "      <th></th>\n",
              "      <th>Driver_ID</th>\n",
              "      <th>Gender</th>\n",
              "      <th>Total Business Value</th>\n",
              "      <th>Age</th>\n",
              "      <th>Education_Level</th>\n",
              "      <th>Income</th>\n",
              "      <th>Joining Designation</th>\n",
              "      <th>Grade</th>\n",
              "      <th>Quarterly Rating</th>\n",
              "      <th>City_C1</th>\n",
              "      <th>...</th>\n",
              "      <th>City_C8</th>\n",
              "      <th>City_C9</th>\n",
              "      <th>Income_Change</th>\n",
              "      <th>Declining_Income</th>\n",
              "      <th>TBV_Change</th>\n",
              "      <th>Declining_TBV</th>\n",
              "      <th>QR_Change</th>\n",
              "      <th>Declining_Quarterly_Rating</th>\n",
              "      <th>Likely_to_Churn</th>\n",
              "      <th>Final_Churn_Prediction</th>\n",
              "    </tr>\n",
              "  </thead>\n",
              "  <tbody>\n",
              "  </tbody>\n",
              "</table>\n",
              "<p>0 rows × 46 columns</p>\n",
              "</div>\n",
              "    <div class=\"colab-df-buttons\">\n",
              "\n",
              "  <div class=\"colab-df-container\">\n",
              "    <button class=\"colab-df-convert\" onclick=\"convertToInteractive('df-1bdca13c-16b1-48b4-9c24-82f4f52a0aac')\"\n",
              "            title=\"Convert this dataframe to an interactive table.\"\n",
              "            style=\"display:none;\">\n",
              "\n",
              "  <svg xmlns=\"http://www.w3.org/2000/svg\" height=\"24px\" viewBox=\"0 -960 960 960\">\n",
              "    <path d=\"M120-120v-720h720v720H120Zm60-500h600v-160H180v160Zm220 220h160v-160H400v160Zm0 220h160v-160H400v160ZM180-400h160v-160H180v160Zm440 0h160v-160H620v160ZM180-180h160v-160H180v160Zm440 0h160v-160H620v160Z\"/>\n",
              "  </svg>\n",
              "    </button>\n",
              "\n",
              "  <style>\n",
              "    .colab-df-container {\n",
              "      display:flex;\n",
              "      gap: 12px;\n",
              "    }\n",
              "\n",
              "    .colab-df-convert {\n",
              "      background-color: #E8F0FE;\n",
              "      border: none;\n",
              "      border-radius: 50%;\n",
              "      cursor: pointer;\n",
              "      display: none;\n",
              "      fill: #1967D2;\n",
              "      height: 32px;\n",
              "      padding: 0 0 0 0;\n",
              "      width: 32px;\n",
              "    }\n",
              "\n",
              "    .colab-df-convert:hover {\n",
              "      background-color: #E2EBFA;\n",
              "      box-shadow: 0px 1px 2px rgba(60, 64, 67, 0.3), 0px 1px 3px 1px rgba(60, 64, 67, 0.15);\n",
              "      fill: #174EA6;\n",
              "    }\n",
              "\n",
              "    .colab-df-buttons div {\n",
              "      margin-bottom: 4px;\n",
              "    }\n",
              "\n",
              "    [theme=dark] .colab-df-convert {\n",
              "      background-color: #3B4455;\n",
              "      fill: #D2E3FC;\n",
              "    }\n",
              "\n",
              "    [theme=dark] .colab-df-convert:hover {\n",
              "      background-color: #434B5C;\n",
              "      box-shadow: 0px 1px 3px 1px rgba(0, 0, 0, 0.15);\n",
              "      filter: drop-shadow(0px 1px 2px rgba(0, 0, 0, 0.3));\n",
              "      fill: #FFFFFF;\n",
              "    }\n",
              "  </style>\n",
              "\n",
              "    <script>\n",
              "      const buttonEl =\n",
              "        document.querySelector('#df-1bdca13c-16b1-48b4-9c24-82f4f52a0aac button.colab-df-convert');\n",
              "      buttonEl.style.display =\n",
              "        google.colab.kernel.accessAllowed ? 'block' : 'none';\n",
              "\n",
              "      async function convertToInteractive(key) {\n",
              "        const element = document.querySelector('#df-1bdca13c-16b1-48b4-9c24-82f4f52a0aac');\n",
              "        const dataTable =\n",
              "          await google.colab.kernel.invokeFunction('convertToInteractive',\n",
              "                                                    [key], {});\n",
              "        if (!dataTable) return;\n",
              "\n",
              "        const docLinkHtml = 'Like what you see? Visit the ' +\n",
              "          '<a target=\"_blank\" href=https://colab.research.google.com/notebooks/data_table.ipynb>data table notebook</a>'\n",
              "          + ' to learn more about interactive tables.';\n",
              "        element.innerHTML = '';\n",
              "        dataTable['output_type'] = 'display_data';\n",
              "        await google.colab.output.renderOutput(dataTable, element);\n",
              "        const docLink = document.createElement('div');\n",
              "        docLink.innerHTML = docLinkHtml;\n",
              "        element.appendChild(docLink);\n",
              "      }\n",
              "    </script>\n",
              "  </div>\n",
              "\n",
              "\n",
              "  <div id=\"id_1c7007fc-926f-4b82-947e-fb92bbf43737\">\n",
              "    <style>\n",
              "      .colab-df-generate {\n",
              "        background-color: #E8F0FE;\n",
              "        border: none;\n",
              "        border-radius: 50%;\n",
              "        cursor: pointer;\n",
              "        display: none;\n",
              "        fill: #1967D2;\n",
              "        height: 32px;\n",
              "        padding: 0 0 0 0;\n",
              "        width: 32px;\n",
              "      }\n",
              "\n",
              "      .colab-df-generate:hover {\n",
              "        background-color: #E2EBFA;\n",
              "        box-shadow: 0px 1px 2px rgba(60, 64, 67, 0.3), 0px 1px 3px 1px rgba(60, 64, 67, 0.15);\n",
              "        fill: #174EA6;\n",
              "      }\n",
              "\n",
              "      [theme=dark] .colab-df-generate {\n",
              "        background-color: #3B4455;\n",
              "        fill: #D2E3FC;\n",
              "      }\n",
              "\n",
              "      [theme=dark] .colab-df-generate:hover {\n",
              "        background-color: #434B5C;\n",
              "        box-shadow: 0px 1px 3px 1px rgba(0, 0, 0, 0.15);\n",
              "        filter: drop-shadow(0px 1px 2px rgba(0, 0, 0, 0.3));\n",
              "        fill: #FFFFFF;\n",
              "      }\n",
              "    </style>\n",
              "    <button class=\"colab-df-generate\" onclick=\"generateWithVariable('rows_with_nan')\"\n",
              "            title=\"Generate code using this dataframe.\"\n",
              "            style=\"display:none;\">\n",
              "\n",
              "  <svg xmlns=\"http://www.w3.org/2000/svg\" height=\"24px\"viewBox=\"0 0 24 24\"\n",
              "       width=\"24px\">\n",
              "    <path d=\"M7,19H8.4L18.45,9,17,7.55,7,17.6ZM5,21V16.75L18.45,3.32a2,2,0,0,1,2.83,0l1.4,1.43a1.91,1.91,0,0,1,.58,1.4,1.91,1.91,0,0,1-.58,1.4L9.25,21ZM18.45,9,17,7.55Zm-12,3A5.31,5.31,0,0,0,4.9,8.1,5.31,5.31,0,0,0,1,6.5,5.31,5.31,0,0,0,4.9,4.9,5.31,5.31,0,0,0,6.5,1,5.31,5.31,0,0,0,8.1,4.9,5.31,5.31,0,0,0,12,6.5,5.46,5.46,0,0,0,6.5,12Z\"/>\n",
              "  </svg>\n",
              "    </button>\n",
              "    <script>\n",
              "      (() => {\n",
              "      const buttonEl =\n",
              "        document.querySelector('#id_1c7007fc-926f-4b82-947e-fb92bbf43737 button.colab-df-generate');\n",
              "      buttonEl.style.display =\n",
              "        google.colab.kernel.accessAllowed ? 'block' : 'none';\n",
              "\n",
              "      buttonEl.onclick = () => {\n",
              "        google.colab.notebook.generateWithVariable('rows_with_nan');\n",
              "      }\n",
              "      })();\n",
              "    </script>\n",
              "  </div>\n",
              "\n",
              "    </div>\n",
              "  </div>\n"
            ],
            "application/vnd.google.colaboratory.intrinsic+json": {
              "type": "dataframe",
              "variable_name": "rows_with_nan"
            }
          },
          "metadata": {},
          "execution_count": 76
        }
      ]
    },
    {
      "cell_type": "code",
      "source": [
        "#Splitting of data\n",
        "from sklearn.model_selection import train_test_split\n",
        "\n",
        "# Define features (X) and target (y)\n",
        "X = df.drop('Final_Churn_Prediction', axis=1)\n",
        "y = df['Final_Churn_Prediction']\n",
        "\n",
        "# Split the data\n",
        "X_train, X_test, y_train, y_test = train_test_split(X, y, test_size=0.2, random_state=42)"
      ],
      "metadata": {
        "id": "R_VOLKr5q8Ma"
      },
      "execution_count": 83,
      "outputs": []
    },
    {
      "cell_type": "code",
      "source": [
        "# Hyperpatrameter tuning 1st method\n",
        "# Oversampling using SMOTE\n",
        "from imblearn.over_sampling import SMOTE\n",
        "from sklearn.model_selection import train_test_split\n",
        "\n",
        "# Splitting data\n",
        "X_train, X_test, y_train, y_test = train_test_split(X, y, test_size=0.3, random_state=42)\n",
        "\n",
        "# Applying SMOTE\n",
        "smote = SMOTE(random_state=42)\n",
        "X_res, y_res = smote.fit_resample(X_train, y_train)\n"
      ],
      "metadata": {
        "id": "rwplFCRpmAYa"
      },
      "execution_count": 84,
      "outputs": []
    },
    {
      "cell_type": "markdown",
      "source": [
        "Applyied the Synthetic Minority Over-sampling Technique (SMOTE) to create new samples for the minority class so that class imbalance is manipulated well."
      ],
      "metadata": {
        "id": "ee6HVZB8EoSU"
      }
    },
    {
      "cell_type": "code",
      "source": [
        "# Classification report\n",
        "from sklearn.ensemble import RandomForestClassifier\n",
        "from sklearn.metrics import classification_report\n",
        "\n",
        "# Initializing and training the model\n",
        "rf = RandomForestClassifier(n_estimators=100, max_depth=10, random_state=42)\n",
        "rf.fit(X_res, y_res)\n",
        "\n",
        "# Predictions\n",
        "y_pred = rf.predict(X_test)\n",
        "\n",
        "# Evaluation\n",
        "print(classification_report(y_test, y_pred))\n"
      ],
      "metadata": {
        "id": "scZTnmETmD8a",
        "colab": {
          "base_uri": "https://localhost:8080/"
        },
        "outputId": "0045c7bc-7399-4823-b9b0-87b26f140ca7"
      },
      "execution_count": 85,
      "outputs": [
        {
          "output_type": "stream",
          "name": "stdout",
          "text": [
            "              precision    recall  f1-score   support\n",
            "\n",
            "           0       1.00      1.00      1.00       477\n",
            "           1       1.00      1.00      1.00       238\n",
            "\n",
            "    accuracy                           1.00       715\n",
            "   macro avg       1.00      1.00      1.00       715\n",
            "weighted avg       1.00      1.00      1.00       715\n",
            "\n"
          ]
        }
      ]
    },
    {
      "cell_type": "markdown",
      "source": [],
      "metadata": {
        "id": "jv12MnTBQFKD"
      }
    },
    {
      "cell_type": "code",
      "source": [
        "# ROC-AUC score\n",
        "y_proba = rf.predict_proba(X_test)[:, 1]\n",
        "roc_score = roc_auc_score(y_test, y_proba)\n",
        "print(f\"ROC-AUC Score: {roc_score}\")\n"
      ],
      "metadata": {
        "colab": {
          "base_uri": "https://localhost:8080/"
        },
        "id": "DCiCF5LTP_N6",
        "outputId": "f93fd884-46da-4b9b-e315-d29c91c3e711"
      },
      "execution_count": 92,
      "outputs": [
        {
          "output_type": "stream",
          "name": "stdout",
          "text": [
            "ROC-AUC Score: 1.0\n"
          ]
        }
      ]
    },
    {
      "cell_type": "code",
      "source": [
        "# Hyperpatrameter tuning 2nd method\n",
        "from imblearn.over_sampling import SMOTE\n",
        "from sklearn.model_selection import train_test_split\n",
        "\n",
        "# Splitting the dataset into training and testing sets\n",
        "X_train, X_test, y_train, y_test = train_test_split(X, y, test_size=0.3, random_state=42)\n",
        "\n",
        "# Applying SMOTE\n",
        "smote = SMOTE(random_state=42)\n",
        "X_resampled, y_resampled = smote.fit_resample(X_train, y_train)\n"
      ],
      "metadata": {
        "id": "stvLVtx_msaD"
      },
      "execution_count": 86,
      "outputs": []
    },
    {
      "cell_type": "code",
      "source": [
        "from imblearn.under_sampling import RandomUnderSampler\n",
        "\n",
        "# Applying undersampling\n",
        "rus = RandomUnderSampler(random_state=42)\n",
        "X_resampled, y_resampled = rus.fit_resample(X_train, y_train)\n"
      ],
      "metadata": {
        "id": "InOsHmMImvdj"
      },
      "execution_count": 87,
      "outputs": []
    },
    {
      "cell_type": "markdown",
      "source": [
        "Randomly removed samples from the majority class to balance the dataset."
      ],
      "metadata": {
        "id": "OzT0gwVZF73n"
      }
    },
    {
      "cell_type": "code",
      "source": [
        "from imblearn.combine import SMOTETomek\n",
        "\n",
        "# Applying hybrid sampling (SMOTE + Tomek links)\n",
        "smote_tomek = SMOTETomek(random_state=42)\n",
        "X_resampled, y_resampled = smote_tomek.fit_resample(X_train, y_train)\n"
      ],
      "metadata": {
        "id": "TfEdWTntmydd"
      },
      "execution_count": 88,
      "outputs": []
    },
    {
      "cell_type": "markdown",
      "source": [
        " Balanced the dataset by applying both oversampling to the minority class and undersampling to the majority class."
      ],
      "metadata": {
        "id": "rqc1GhBlGYbw"
      }
    },
    {
      "cell_type": "code",
      "source": [
        "from sklearn.ensemble import RandomForestClassifier\n",
        "\n",
        "# Initialize the classifier with class_weight='balanced'\n",
        "rf = RandomForestClassifier(class_weight='balanced', random_state=42)\n",
        "rf.fit(X_train, y_train)\n"
      ],
      "metadata": {
        "id": "HN1wFbALm4XL",
        "colab": {
          "base_uri": "https://localhost:8080/",
          "height": 75
        },
        "outputId": "1074a735-aed0-4838-f5c1-e8bc97b07240"
      },
      "execution_count": 89,
      "outputs": [
        {
          "output_type": "execute_result",
          "data": {
            "text/plain": [
              "RandomForestClassifier(class_weight='balanced', random_state=42)"
            ],
            "text/html": [
              "<style>#sk-container-id-1 {color: black;}#sk-container-id-1 pre{padding: 0;}#sk-container-id-1 div.sk-toggleable {background-color: white;}#sk-container-id-1 label.sk-toggleable__label {cursor: pointer;display: block;width: 100%;margin-bottom: 0;padding: 0.3em;box-sizing: border-box;text-align: center;}#sk-container-id-1 label.sk-toggleable__label-arrow:before {content: \"▸\";float: left;margin-right: 0.25em;color: #696969;}#sk-container-id-1 label.sk-toggleable__label-arrow:hover:before {color: black;}#sk-container-id-1 div.sk-estimator:hover label.sk-toggleable__label-arrow:before {color: black;}#sk-container-id-1 div.sk-toggleable__content {max-height: 0;max-width: 0;overflow: hidden;text-align: left;background-color: #f0f8ff;}#sk-container-id-1 div.sk-toggleable__content pre {margin: 0.2em;color: black;border-radius: 0.25em;background-color: #f0f8ff;}#sk-container-id-1 input.sk-toggleable__control:checked~div.sk-toggleable__content {max-height: 200px;max-width: 100%;overflow: auto;}#sk-container-id-1 input.sk-toggleable__control:checked~label.sk-toggleable__label-arrow:before {content: \"▾\";}#sk-container-id-1 div.sk-estimator input.sk-toggleable__control:checked~label.sk-toggleable__label {background-color: #d4ebff;}#sk-container-id-1 div.sk-label input.sk-toggleable__control:checked~label.sk-toggleable__label {background-color: #d4ebff;}#sk-container-id-1 input.sk-hidden--visually {border: 0;clip: rect(1px 1px 1px 1px);clip: rect(1px, 1px, 1px, 1px);height: 1px;margin: -1px;overflow: hidden;padding: 0;position: absolute;width: 1px;}#sk-container-id-1 div.sk-estimator {font-family: monospace;background-color: #f0f8ff;border: 1px dotted black;border-radius: 0.25em;box-sizing: border-box;margin-bottom: 0.5em;}#sk-container-id-1 div.sk-estimator:hover {background-color: #d4ebff;}#sk-container-id-1 div.sk-parallel-item::after {content: \"\";width: 100%;border-bottom: 1px solid gray;flex-grow: 1;}#sk-container-id-1 div.sk-label:hover label.sk-toggleable__label {background-color: #d4ebff;}#sk-container-id-1 div.sk-serial::before {content: \"\";position: absolute;border-left: 1px solid gray;box-sizing: border-box;top: 0;bottom: 0;left: 50%;z-index: 0;}#sk-container-id-1 div.sk-serial {display: flex;flex-direction: column;align-items: center;background-color: white;padding-right: 0.2em;padding-left: 0.2em;position: relative;}#sk-container-id-1 div.sk-item {position: relative;z-index: 1;}#sk-container-id-1 div.sk-parallel {display: flex;align-items: stretch;justify-content: center;background-color: white;position: relative;}#sk-container-id-1 div.sk-item::before, #sk-container-id-1 div.sk-parallel-item::before {content: \"\";position: absolute;border-left: 1px solid gray;box-sizing: border-box;top: 0;bottom: 0;left: 50%;z-index: -1;}#sk-container-id-1 div.sk-parallel-item {display: flex;flex-direction: column;z-index: 1;position: relative;background-color: white;}#sk-container-id-1 div.sk-parallel-item:first-child::after {align-self: flex-end;width: 50%;}#sk-container-id-1 div.sk-parallel-item:last-child::after {align-self: flex-start;width: 50%;}#sk-container-id-1 div.sk-parallel-item:only-child::after {width: 0;}#sk-container-id-1 div.sk-dashed-wrapped {border: 1px dashed gray;margin: 0 0.4em 0.5em 0.4em;box-sizing: border-box;padding-bottom: 0.4em;background-color: white;}#sk-container-id-1 div.sk-label label {font-family: monospace;font-weight: bold;display: inline-block;line-height: 1.2em;}#sk-container-id-1 div.sk-label-container {text-align: center;}#sk-container-id-1 div.sk-container {/* jupyter's `normalize.less` sets `[hidden] { display: none; }` but bootstrap.min.css set `[hidden] { display: none !important; }` so we also need the `!important` here to be able to override the default hidden behavior on the sphinx rendered scikit-learn.org. See: https://github.com/scikit-learn/scikit-learn/issues/21755 */display: inline-block !important;position: relative;}#sk-container-id-1 div.sk-text-repr-fallback {display: none;}</style><div id=\"sk-container-id-1\" class=\"sk-top-container\"><div class=\"sk-text-repr-fallback\"><pre>RandomForestClassifier(class_weight=&#x27;balanced&#x27;, random_state=42)</pre><b>In a Jupyter environment, please rerun this cell to show the HTML representation or trust the notebook. <br />On GitHub, the HTML representation is unable to render, please try loading this page with nbviewer.org.</b></div><div class=\"sk-container\" hidden><div class=\"sk-item\"><div class=\"sk-estimator sk-toggleable\"><input class=\"sk-toggleable__control sk-hidden--visually\" id=\"sk-estimator-id-1\" type=\"checkbox\" checked><label for=\"sk-estimator-id-1\" class=\"sk-toggleable__label sk-toggleable__label-arrow\">RandomForestClassifier</label><div class=\"sk-toggleable__content\"><pre>RandomForestClassifier(class_weight=&#x27;balanced&#x27;, random_state=42)</pre></div></div></div></div></div>"
            ]
          },
          "metadata": {},
          "execution_count": 89
        }
      ]
    },
    {
      "cell_type": "markdown",
      "source": [
        "Utilized models that support class_weight parameters to give more importance to the minority class."
      ],
      "metadata": {
        "id": "VfaUCnxVE9ck"
      }
    },
    {
      "cell_type": "code",
      "source": [
        "import xgboost as xgb\n",
        "\n",
        "model = xgb.XGBClassifier(scale_pos_weight=(len(y_train) / sum(y_train)), random_state=42)\n",
        "model.fit(X_train, y_train)\n"
      ],
      "metadata": {
        "id": "YUfmpK5zm-k9",
        "colab": {
          "base_uri": "https://localhost:8080/",
          "height": 249
        },
        "outputId": "548dc491-cb62-412f-b636-802a1fc6d193"
      },
      "execution_count": 90,
      "outputs": [
        {
          "output_type": "execute_result",
          "data": {
            "text/plain": [
              "XGBClassifier(base_score=None, booster=None, callbacks=None,\n",
              "              colsample_bylevel=None, colsample_bynode=None,\n",
              "              colsample_bytree=None, device=None, early_stopping_rounds=None,\n",
              "              enable_categorical=False, eval_metric=None, feature_types=None,\n",
              "              gamma=None, grow_policy=None, importance_type=None,\n",
              "              interaction_constraints=None, learning_rate=None, max_bin=None,\n",
              "              max_cat_threshold=None, max_cat_to_onehot=None,\n",
              "              max_delta_step=None, max_depth=None, max_leaves=None,\n",
              "              min_child_weight=None, missing=nan, monotone_constraints=None,\n",
              "              multi_strategy=None, n_estimators=None, n_jobs=None,\n",
              "              num_parallel_tree=None, random_state=42, ...)"
            ],
            "text/html": [
              "<style>#sk-container-id-2 {color: black;}#sk-container-id-2 pre{padding: 0;}#sk-container-id-2 div.sk-toggleable {background-color: white;}#sk-container-id-2 label.sk-toggleable__label {cursor: pointer;display: block;width: 100%;margin-bottom: 0;padding: 0.3em;box-sizing: border-box;text-align: center;}#sk-container-id-2 label.sk-toggleable__label-arrow:before {content: \"▸\";float: left;margin-right: 0.25em;color: #696969;}#sk-container-id-2 label.sk-toggleable__label-arrow:hover:before {color: black;}#sk-container-id-2 div.sk-estimator:hover label.sk-toggleable__label-arrow:before {color: black;}#sk-container-id-2 div.sk-toggleable__content {max-height: 0;max-width: 0;overflow: hidden;text-align: left;background-color: #f0f8ff;}#sk-container-id-2 div.sk-toggleable__content pre {margin: 0.2em;color: black;border-radius: 0.25em;background-color: #f0f8ff;}#sk-container-id-2 input.sk-toggleable__control:checked~div.sk-toggleable__content {max-height: 200px;max-width: 100%;overflow: auto;}#sk-container-id-2 input.sk-toggleable__control:checked~label.sk-toggleable__label-arrow:before {content: \"▾\";}#sk-container-id-2 div.sk-estimator input.sk-toggleable__control:checked~label.sk-toggleable__label {background-color: #d4ebff;}#sk-container-id-2 div.sk-label input.sk-toggleable__control:checked~label.sk-toggleable__label {background-color: #d4ebff;}#sk-container-id-2 input.sk-hidden--visually {border: 0;clip: rect(1px 1px 1px 1px);clip: rect(1px, 1px, 1px, 1px);height: 1px;margin: -1px;overflow: hidden;padding: 0;position: absolute;width: 1px;}#sk-container-id-2 div.sk-estimator {font-family: monospace;background-color: #f0f8ff;border: 1px dotted black;border-radius: 0.25em;box-sizing: border-box;margin-bottom: 0.5em;}#sk-container-id-2 div.sk-estimator:hover {background-color: #d4ebff;}#sk-container-id-2 div.sk-parallel-item::after {content: \"\";width: 100%;border-bottom: 1px solid gray;flex-grow: 1;}#sk-container-id-2 div.sk-label:hover label.sk-toggleable__label {background-color: #d4ebff;}#sk-container-id-2 div.sk-serial::before {content: \"\";position: absolute;border-left: 1px solid gray;box-sizing: border-box;top: 0;bottom: 0;left: 50%;z-index: 0;}#sk-container-id-2 div.sk-serial {display: flex;flex-direction: column;align-items: center;background-color: white;padding-right: 0.2em;padding-left: 0.2em;position: relative;}#sk-container-id-2 div.sk-item {position: relative;z-index: 1;}#sk-container-id-2 div.sk-parallel {display: flex;align-items: stretch;justify-content: center;background-color: white;position: relative;}#sk-container-id-2 div.sk-item::before, #sk-container-id-2 div.sk-parallel-item::before {content: \"\";position: absolute;border-left: 1px solid gray;box-sizing: border-box;top: 0;bottom: 0;left: 50%;z-index: -1;}#sk-container-id-2 div.sk-parallel-item {display: flex;flex-direction: column;z-index: 1;position: relative;background-color: white;}#sk-container-id-2 div.sk-parallel-item:first-child::after {align-self: flex-end;width: 50%;}#sk-container-id-2 div.sk-parallel-item:last-child::after {align-self: flex-start;width: 50%;}#sk-container-id-2 div.sk-parallel-item:only-child::after {width: 0;}#sk-container-id-2 div.sk-dashed-wrapped {border: 1px dashed gray;margin: 0 0.4em 0.5em 0.4em;box-sizing: border-box;padding-bottom: 0.4em;background-color: white;}#sk-container-id-2 div.sk-label label {font-family: monospace;font-weight: bold;display: inline-block;line-height: 1.2em;}#sk-container-id-2 div.sk-label-container {text-align: center;}#sk-container-id-2 div.sk-container {/* jupyter's `normalize.less` sets `[hidden] { display: none; }` but bootstrap.min.css set `[hidden] { display: none !important; }` so we also need the `!important` here to be able to override the default hidden behavior on the sphinx rendered scikit-learn.org. See: https://github.com/scikit-learn/scikit-learn/issues/21755 */display: inline-block !important;position: relative;}#sk-container-id-2 div.sk-text-repr-fallback {display: none;}</style><div id=\"sk-container-id-2\" class=\"sk-top-container\"><div class=\"sk-text-repr-fallback\"><pre>XGBClassifier(base_score=None, booster=None, callbacks=None,\n",
              "              colsample_bylevel=None, colsample_bynode=None,\n",
              "              colsample_bytree=None, device=None, early_stopping_rounds=None,\n",
              "              enable_categorical=False, eval_metric=None, feature_types=None,\n",
              "              gamma=None, grow_policy=None, importance_type=None,\n",
              "              interaction_constraints=None, learning_rate=None, max_bin=None,\n",
              "              max_cat_threshold=None, max_cat_to_onehot=None,\n",
              "              max_delta_step=None, max_depth=None, max_leaves=None,\n",
              "              min_child_weight=None, missing=nan, monotone_constraints=None,\n",
              "              multi_strategy=None, n_estimators=None, n_jobs=None,\n",
              "              num_parallel_tree=None, random_state=42, ...)</pre><b>In a Jupyter environment, please rerun this cell to show the HTML representation or trust the notebook. <br />On GitHub, the HTML representation is unable to render, please try loading this page with nbviewer.org.</b></div><div class=\"sk-container\" hidden><div class=\"sk-item\"><div class=\"sk-estimator sk-toggleable\"><input class=\"sk-toggleable__control sk-hidden--visually\" id=\"sk-estimator-id-2\" type=\"checkbox\" checked><label for=\"sk-estimator-id-2\" class=\"sk-toggleable__label sk-toggleable__label-arrow\">XGBClassifier</label><div class=\"sk-toggleable__content\"><pre>XGBClassifier(base_score=None, booster=None, callbacks=None,\n",
              "              colsample_bylevel=None, colsample_bynode=None,\n",
              "              colsample_bytree=None, device=None, early_stopping_rounds=None,\n",
              "              enable_categorical=False, eval_metric=None, feature_types=None,\n",
              "              gamma=None, grow_policy=None, importance_type=None,\n",
              "              interaction_constraints=None, learning_rate=None, max_bin=None,\n",
              "              max_cat_threshold=None, max_cat_to_onehot=None,\n",
              "              max_delta_step=None, max_depth=None, max_leaves=None,\n",
              "              min_child_weight=None, missing=nan, monotone_constraints=None,\n",
              "              multi_strategy=None, n_estimators=None, n_jobs=None,\n",
              "              num_parallel_tree=None, random_state=42, ...)</pre></div></div></div></div></div>"
            ]
          },
          "metadata": {},
          "execution_count": 90
        }
      ]
    },
    {
      "cell_type": "markdown",
      "source": [
        "To address class imbalance, we used resampling methods like SMOTE (oversampling), random undersampling and hybrid techniques like SMOTETomek. Additionally, we adjusted algorithms by setting class_weight='balanced'. Lastly, ensemble methods like Bagging (Random Forest) as well as Boosting (XGBoost) were modelled to help improve predictions for imbalanced datasets."
      ],
      "metadata": {
        "id": "WghCecqIn4Sp"
      }
    },
    {
      "cell_type": "code",
      "source": [
        "# Classification report based on 2nd method\n",
        "from sklearn.metrics import classification_report, roc_auc_score, confusion_matrix\n",
        "\n",
        "# Predict on test data\n",
        "y_pred = model.predict(X_test)\n",
        "\n",
        "# Classification report for precision, recall, and F1-score\n",
        "print(classification_report(y_test, y_pred))\n",
        "\n",
        "# Confusion matrix\n",
        "print(confusion_matrix(y_test, y_pred))\n",
        "\n",
        "# ROC-AUC score\n",
        "y_proba = model.predict_proba(X_test)[:, 1]\n",
        "roc_score = roc_auc_score(y_test, y_proba)\n",
        "print(f\"ROC-AUC Score: {roc_score}\")\n"
      ],
      "metadata": {
        "id": "5tZ-x6PhnCfk",
        "colab": {
          "base_uri": "https://localhost:8080/"
        },
        "outputId": "1f49644d-eecd-4873-9e89-f27b9d5d11ca"
      },
      "execution_count": 91,
      "outputs": [
        {
          "output_type": "stream",
          "name": "stdout",
          "text": [
            "              precision    recall  f1-score   support\n",
            "\n",
            "           0       1.00      1.00      1.00       477\n",
            "           1       1.00      1.00      1.00       238\n",
            "\n",
            "    accuracy                           1.00       715\n",
            "   macro avg       1.00      1.00      1.00       715\n",
            "weighted avg       1.00      1.00      1.00       715\n",
            "\n",
            "[[477   0]\n",
            " [  0 238]]\n",
            "ROC-AUC Score: 1.0\n"
          ]
        }
      ]
    },
    {
      "cell_type": "code",
      "source": [
        "# Plot the ROC curve\n",
        "fpr, tpr, _ = roc_curve(y_test, y_proba)\n",
        "plt.figure()\n",
        "plt.plot(fpr, tpr, label=f'XGBoost (AUC = {roc_score:.2f})')\n",
        "plt.xlabel('False Positive Rate')\n",
        "plt.ylabel('True Positive Rate')\n",
        "plt.title('ROC Curve')\n",
        "plt.legend()\n",
        "plt.show()"
      ],
      "metadata": {
        "colab": {
          "base_uri": "https://localhost:8080/",
          "height": 472
        },
        "id": "Xma8hmTYRIbc",
        "outputId": "b9b127ec-1c3e-4a89-8bbd-27c9a832c0cd"
      },
      "execution_count": 101,
      "outputs": [
        {
          "output_type": "display_data",
          "data": {
            "text/plain": [
              "<Figure size 640x480 with 1 Axes>"
            ],
            "image/png": "[encoded data removed]"
          },
          "metadata": {}
        }
      ]
    },
    {
      "cell_type": "code",
      "source": [
        "df=pd.read_csv('newola.csv')\n"
      ],
      "metadata": {
        "id": "23beKfGlTB3D"
      },
      "execution_count": 106,
      "outputs": []
    },
    {
      "cell_type": "code",
      "source": [
        "# Calculate change within each Driver_ID group\n",
        "df['Income_Change'] = df.groupby('Driver_ID')['Income'].diff()\n",
        "df['Declining_Income'] = (df['Income_Change'] < 0).astype(int)\n",
        "\n",
        "df['TBV_Change'] = df.groupby('Driver_ID')['Total Business Value'].diff()\n",
        "df['Declining_TBV'] = (df['TBV_Change'] < 0).astype(int)\n",
        "\n",
        "df['QR_Change'] = df.groupby('Driver_ID')['Quarterly Rating'].diff()\n",
        "df['Declining_Quarterly_Rating'] = (df['QR_Change'] < 0).astype(int)\n"
      ],
      "metadata": {
        "id": "wIV6dx62TffO"
      },
      "execution_count": 107,
      "outputs": []
    },
    {
      "cell_type": "code",
      "source": [
        "# Step 3: Identify drivers with declining metrics before churn\n",
        "df['Likely_to_Churn'] = ((df['Declining_Income'] == 1) |\n",
        "                         (df['Declining_TBV'] == 1) |\n",
        "                         (df['Declining_Quarterly_Rating'] == 1)).astype(int)\n",
        "\n",
        "df['Final_Churn_Prediction'] = df.apply(lambda x: 1 if  x['Likely_to_Churn'] == 1 else 0, axis=1)"
      ],
      "metadata": {
        "id": "ecropD5ZTffP"
      },
      "execution_count": 108,
      "outputs": []
    },
    {
      "cell_type": "code",
      "source": [
        "# Impute with mean or median\n",
        "df['Income_Change'].fillna(df['Declining_Income'].mean(), inplace=True)\n",
        "df['TBV_Change'].fillna(df['Declining_TBV'].mean(), inplace=True)\n",
        "df['QR_Change'].fillna(df['Declining_Quarterly_Rating'].mean(), inplace=True)\n"
      ],
      "metadata": {
        "id": "pjShxrVtTffQ"
      },
      "execution_count": 109,
      "outputs": []
    },
    {
      "cell_type": "code",
      "source": [
        "df = df.drop_duplicates(subset='Driver_ID', keep='last')"
      ],
      "metadata": {
        "id": "iHhmbxj9TffQ"
      },
      "execution_count": 110,
      "outputs": []
    },
    {
      "cell_type": "code",
      "source": [
        "df['Final_Churn_Prediction'].groupby(df['Final_Churn_Prediction']).count()"
      ],
      "metadata": {
        "colab": {
          "base_uri": "https://localhost:8080/",
          "height": 178
        },
        "outputId": "c76e1226-6189-4134-b1f0-9b7b81341a4f",
        "id": "07Pr-jBBTffR"
      },
      "execution_count": 111,
      "outputs": [
        {
          "output_type": "execute_result",
          "data": {
            "text/plain": [
              "Final_Churn_Prediction\n",
              "0    1609\n",
              "1     772\n",
              "Name: Final_Churn_Prediction, dtype: int64"
            ],
            "text/html": [
              "<div>\n",
              "<style scoped>\n",
              "    .dataframe tbody tr th:only-of-type {\n",
              "        vertical-align: middle;\n",
              "    }\n",
              "\n",
              "    .dataframe tbody tr th {\n",
              "        vertical-align: top;\n",
              "    }\n",
              "\n",
              "    .dataframe thead th {\n",
              "        text-align: right;\n",
              "    }\n",
              "</style>\n",
              "<table border=\"1\" class=\"dataframe\">\n",
              "  <thead>\n",
              "    <tr style=\"text-align: right;\">\n",
              "      <th></th>\n",
              "      <th>Final_Churn_Prediction</th>\n",
              "    </tr>\n",
              "    <tr>\n",
              "      <th>Final_Churn_Prediction</th>\n",
              "      <th></th>\n",
              "    </tr>\n",
              "  </thead>\n",
              "  <tbody>\n",
              "    <tr>\n",
              "      <th>0</th>\n",
              "      <td>1609</td>\n",
              "    </tr>\n",
              "    <tr>\n",
              "      <th>1</th>\n",
              "      <td>772</td>\n",
              "    </tr>\n",
              "  </tbody>\n",
              "</table>\n",
              "</div><br><label><b>dtype:</b> int64</label>"
            ]
          },
          "metadata": {},
          "execution_count": 111
        }
      ]
    },
    {
      "cell_type": "code",
      "source": [
        "# Columns that should remain integers\n",
        "int_cols = ['Age','Driver_ID','Gender','Education_Level','Grade','Joining Designation', 'Quarterly Rating']\n",
        "\n",
        "# Convert them back to integer type\n",
        "df[int_cols] = df[int_cols].astype('int')\n"
      ],
      "metadata": {
        "id": "cyAsCMGDTffS"
      },
      "execution_count": 112,
      "outputs": []
    },
    {
      "cell_type": "code",
      "source": [
        "#Splitting of data\n",
        "from sklearn.model_selection import train_test_split\n",
        "\n",
        "# Define features (X) and target (y)\n",
        "X = df.drop('Final_Churn_Prediction', axis=1)\n",
        "y = df['Final_Churn_Prediction']\n",
        "\n",
        "# Split the data\n",
        "X_train, X_test, y_train, y_test = train_test_split(X, y, test_size=0.2, random_state=42)"
      ],
      "metadata": {
        "id": "s-EpolJ3TffT"
      },
      "execution_count": 113,
      "outputs": []
    },
    {
      "cell_type": "code",
      "source": [
        "from sklearn.ensemble import RandomForestClassifier\n",
        "from sklearn.model_selection import GridSearchCV\n",
        "\n",
        "# Initialize Random Forest model\n",
        "rf_model = RandomForestClassifier(random_state=42)\n",
        "\n",
        "# Define hyperparameters to tune\n",
        "param_grid = {\n",
        "    'n_estimators': [100, 200, 300],\n",
        "    'max_depth': [10, 20, 30],\n",
        "    'min_samples_split': [2, 5, 10]\n",
        "}"
      ],
      "metadata": {
        "id": "2MTje4HDsd8n"
      },
      "execution_count": 114,
      "outputs": []
    },
    {
      "cell_type": "code",
      "source": [
        "#Use GridSearchCV for hyperparameter tuning\n",
        "rf_grid_search = GridSearchCV(estimator=rf_model, param_grid=param_grid, cv=5, scoring='accuracy',error_score='raise')\n",
        "\n",
        "# Fit the model on training data\n",
        "rf_grid_search.fit(X_train, y_train)\n",
        "\n",
        "# Best hyperparameters\n",
        "print(f\"Best Parameters GridSearch: {rf_grid_search.best_params_}\")"
      ],
      "metadata": {
        "id": "MA16mgOwsj2v",
        "colab": {
          "base_uri": "https://localhost:8080/"
        },
        "outputId": "8a0448a4-02fc-4b37-9319-76f4e3b11e53"
      },
      "execution_count": 115,
      "outputs": [
        {
          "output_type": "stream",
          "name": "stdout",
          "text": [
            "Best Parameters GridSearch: {'max_depth': 10, 'min_samples_split': 2, 'n_estimators': 100}\n"
          ]
        }
      ]
    },
    {
      "cell_type": "code",
      "source": [
        "from xgboost import XGBClassifier\n",
        "from sklearn.model_selection import GridSearchCV\n",
        "\n",
        "# Initialize XGBoost model\n",
        "xgb_model = XGBClassifier(random_state=42)\n",
        "\n",
        "# Define hyperparameters to tune\n",
        "param_grid = {\n",
        "    'n_estimators': [100, 200],\n",
        "    'learning_rate': [0.01, 0.1],\n",
        "    'max_depth': [3, 5, 7],\n",
        "    'subsample': [0.8, 1.0],\n",
        "    'colsample_bytree': [0.8, 1.0]\n",
        "}\n",
        "\n",
        "# Use GridSearchCV for hyperparameter tuning\n",
        "xgb_grid_search = GridSearchCV(estimator=xgb_model, param_grid=param_grid, cv=5, scoring='accuracy')\n",
        "\n",
        "# Fit the model on training data\n",
        "xgb_grid_search.fit(X_train, y_train)\n",
        "\n",
        "# Best hyperparameters\n",
        "print(f\"Best Parameters xgb: {xgb_grid_search.best_params_}\")\n"
      ],
      "metadata": {
        "id": "SxP60NLBj5i6",
        "colab": {
          "base_uri": "https://localhost:8080/"
        },
        "outputId": "693ebc04-5232-408c-bcf5-1c3a9230eeda"
      },
      "execution_count": 116,
      "outputs": [
        {
          "output_type": "stream",
          "name": "stdout",
          "text": [
            "Best Parameters xgb: {'colsample_bytree': 0.8, 'learning_rate': 0.01, 'max_depth': 3, 'n_estimators': 100, 'subsample': 0.8}\n"
          ]
        }
      ]
    },
    {
      "cell_type": "code",
      "source": [
        "# Best hyperparameters\n",
        "print(f\"Best Parameters GridSearch: {rf_grid_search.best_params_}\")"
      ],
      "metadata": {
        "id": "U5TXxEVmkq-w",
        "colab": {
          "base_uri": "https://localhost:8080/"
        },
        "outputId": "50a2d08b-51c5-4888-d6e2-f5d1a343bd40"
      },
      "execution_count": 117,
      "outputs": [
        {
          "output_type": "stream",
          "name": "stdout",
          "text": [
            "Best Parameters GridSearch: {'max_depth': 10, 'min_samples_split': 2, 'n_estimators': 100}\n"
          ]
        }
      ]
    },
    {
      "cell_type": "code",
      "source": [
        "from xgboost import XGBClassifier\n",
        "from sklearn.metrics import accuracy_score, confusion_matrix, classification_report\n",
        "\n",
        "# Best hyperparameters for XGBoost\n",
        "xgb_model = XGBClassifier(\n",
        "    colsample_bytree=0.8,\n",
        "    learning_rate=0.01,\n",
        "    max_depth=3,\n",
        "    n_estimators=100,\n",
        "    subsample=0.8,\n",
        "    random_state=42\n",
        ")\n",
        "\n",
        "# Fit XGBoost model on the training data\n",
        "xgb_model.fit(X_train, y_train)\n",
        "\n",
        "# Evaluate on test set\n",
        "xgb_predictions = xgb_model.predict(X_test)\n",
        "\n",
        "# Performance metrics for XGBoost\n",
        "print(\"XGBoost Accuracy:\", accuracy_score(y_test, xgb_predictions))\n",
        "print(\"XGBoost Confusion Matrix:\\n\", confusion_matrix(y_test, xgb_predictions))\n",
        "print(\"XGBoost Classification Report:\\n\", classification_report(y_test, xgb_predictions))\n"
      ],
      "metadata": {
        "id": "_vDpmwzlltbN",
        "colab": {
          "base_uri": "https://localhost:8080/"
        },
        "outputId": "56bc7ce9-10b5-4bba-cba6-37d83032b136"
      },
      "execution_count": 118,
      "outputs": [
        {
          "output_type": "stream",
          "name": "stdout",
          "text": [
            "XGBoost Accuracy: 1.0\n",
            "XGBoost Confusion Matrix:\n",
            " [[313   0]\n",
            " [  0 164]]\n",
            "XGBoost Classification Report:\n",
            "               precision    recall  f1-score   support\n",
            "\n",
            "           0       1.00      1.00      1.00       313\n",
            "           1       1.00      1.00      1.00       164\n",
            "\n",
            "    accuracy                           1.00       477\n",
            "   macro avg       1.00      1.00      1.00       477\n",
            "weighted avg       1.00      1.00      1.00       477\n",
            "\n"
          ]
        }
      ]
    },
    {
      "cell_type": "markdown",
      "source": [
        "Confusion Matrix: All 283 true negatives (class 0) and 194 true positives (class 1) were correctly predicted.\n",
        "Precision, Recall, and F1-Score: All are 1.00, indicating that the model has made no mistakes in predicting either class.\n",
        "Accuracy: 1.00 (100% accuracy), which means the model predicted every instance in the test set correctly."
      ],
      "metadata": {
        "id": "rFIBMg7Xl58j"
      }
    },
    {
      "cell_type": "code",
      "source": [
        "from sklearn.model_selection import cross_val_score, StratifiedKFold\n",
        "from xgboost import XGBClassifier\n",
        "\n",
        "# Define the XGBoost model with the best hyperparameters\n",
        "xgb_model = XGBClassifier(\n",
        "    colsample_bytree=0.8,\n",
        "    learning_rate=0.01,\n",
        "    max_depth=3,\n",
        "    n_estimators=100,\n",
        "    subsample=0.8,\n",
        "    random_state=42\n",
        ")\n",
        "\n",
        "# Set up StratifiedKFold cross-validation to maintain class distribution\n",
        "cv = StratifiedKFold(n_splits=5, shuffle=True, random_state=42)\n",
        "\n",
        "# Perform cross-validation, scoring by accuracy\n",
        "cv_scores = cross_val_score(xgb_model, X, y, cv=cv, scoring='accuracy')\n",
        "\n",
        "# Display the cross-validation results\n",
        "print(\"Cross-validation accuracy scores:\", cv_scores)\n",
        "print(\"Mean accuracy:\", cv_scores.mean())\n",
        "print(\"Standard deviation of accuracy:\", cv_scores.std())\n"
      ],
      "metadata": {
        "id": "ODtYiFhxmq3b",
        "colab": {
          "base_uri": "https://localhost:8080/"
        },
        "outputId": "24c86c55-3a5a-4d8a-bdb9-f43e87298f2d"
      },
      "execution_count": 119,
      "outputs": [
        {
          "output_type": "stream",
          "name": "stdout",
          "text": [
            "Cross-validation accuracy scores: [1. 1. 1. 1. 1.]\n",
            "Mean accuracy: 1.0\n",
            "Standard deviation of accuracy: 0.0\n"
          ]
        }
      ]
    },
    {
      "cell_type": "code",
      "source": [
        "from sklearn.metrics import roc_auc_score, roc_curve\n",
        "import matplotlib.pyplot as plt\n",
        "xgb_model.fit(X_train, y_train)\n",
        "\n",
        "# Evaluate on test set\n",
        "xgb_predictions = xgb_model.predict(X_test)\n",
        "\n",
        "# Predict the probabilities for the test set\n",
        "xgb_probabilities = xgb_model.predict_proba(X_test)[:, 1]  # Get the probability for class 1\n",
        "\n",
        "# Compute the AUC-ROC score\n",
        "xgb_auc = roc_auc_score(y_test, xgb_probabilities)\n",
        "print(\"XGBoost AUC-ROC:\", xgb_auc)\n",
        "\n",
        "# Plot the ROC curve\n",
        "fpr, tpr, _ = roc_curve(y_test, xgb_probabilities)\n",
        "plt.figure()\n",
        "plt.plot(fpr, tpr, label=f'XGBoost (AUC = {xgb_auc:.2f})')\n",
        "plt.plot([0, 1], [0, 1], 'k--', label='Random Guessing')\n",
        "plt.xlabel('False Positive Rate')\n",
        "plt.ylabel('True Positive Rate')\n",
        "plt.title('ROC Curve')\n",
        "plt.legend()\n",
        "plt.show()\n"
      ],
      "metadata": {
        "id": "8ulna84hmvb7",
        "colab": {
          "base_uri": "https://localhost:8080/",
          "height": 489
        },
        "outputId": "4c05d53f-0928-470c-d7ef-2c4b455a27bd"
      },
      "execution_count": 120,
      "outputs": [
        {
          "output_type": "stream",
          "name": "stdout",
          "text": [
            "XGBoost AUC-ROC: 1.0\n"
          ]
        },
        {
          "output_type": "display_data",
          "data": {
            "text/plain": [
              "<Figure size 640x480 with 1 Axes>"
            ],
            "image/png": "[encoded data removed]"
          },
          "metadata": {}
        }
      ]
    },
    {
      "cell_type": "code",
      "source": [
        "# Plotting the distribution of the target variable\n",
        "sns.countplot(x='Final_Churn_Prediction', data=df)\n",
        "plt.title('Distribution of Final Churn Prediction')\n",
        "plt.xlabel('Churn Prediction')\n",
        "plt.ylabel('Count')\n",
        "plt.show()\n"
      ],
      "metadata": {
        "id": "3dt8e1AjpFgt",
        "colab": {
          "base_uri": "https://localhost:8080/",
          "height": 472
        },
        "outputId": "fad90b19-428b-4db9-8cc1-ae73e9bdb1ea"
      },
      "execution_count": 102,
      "outputs": [
        {
          "output_type": "display_data",
          "data": {
            "text/plain": [
              "<Figure size 640x480 with 1 Axes>"
            ],
            "image/png": "[encoded data removed]"
          },
          "metadata": {}
        }
      ]
    },
    {
      "cell_type": "code",
      "source": [
        "# Assuming rf is the trained Random Forest model\n",
        "importances = rf.feature_importances_\n",
        "feature_names = X_train.columns  # Replace with your feature names\n"
      ],
      "metadata": {
        "id": "KgC5yjeNpj2R"
      },
      "execution_count": 104,
      "outputs": []
    },
    {
      "cell_type": "code",
      "source": [
        "# Create a DataFrame for finding feature importance\n",
        "feature_importance_df = pd.DataFrame({\n",
        "    'Feature': feature_names,\n",
        "    'Importance': importances\n",
        "})\n",
        "\n",
        "# Sort by importance\n",
        "feature_importance_df = feature_importance_df.sort_values(by='Importance', ascending=False)\n",
        "\n",
        "# Plot feature importance\n",
        "plt.figure(figsize=(10, 6))\n",
        "plt.barh(feature_importance_df['Feature'], feature_importance_df['Importance'], color='skyblue')\n",
        "plt.gca().invert_yaxis()  # To display the most important feature at the top\n",
        "plt.title('Feature Importance')\n",
        "plt.xlabel('Importance')\n",
        "plt.show()\n"
      ],
      "metadata": {
        "colab": {
          "base_uri": "https://localhost:8080/",
          "height": 564
        },
        "id": "NzH3rSyDpnzR",
        "outputId": "fd45d10a-38bc-405c-9a2c-8c85e475c55f"
      },
      "execution_count": 105,
      "outputs": [
        {
          "output_type": "display_data",
          "data": {
            "text/plain": [
              "<Figure size 1000x600 with 1 Axes>"
            ],
            "image/png": "[encoded data removed]"
          },
          "metadata": {}
        }
      ]
    },
    {
      "cell_type": "markdown",
      "source": [
        "Feature Importance:\n",
        "\n",
        "Likely_to_Churn is the most significant feature, indicating that the churn prediction label plays a critical role in the model's performance. This aligns with the fact that churn itself is the target variable or closely related to the target.\n",
        "\n",
        "TBV_Change (Declining Total Business Value) is another highly influential feature. This suggests that a decline in a driver's total business value is strongly associated with churn.\n",
        "\n",
        "Quarterly Rating also holds importance, meaning that a driver's performance rating has a significant impact on churn prediction. If their rating drops, they are likely at higher risk of leaving."
      ],
      "metadata": {
        "id": "KzV35ScBqzzp"
      }
    }
  ],
  "metadata": {
    "colab": {
      "provenance": [],
      "authorship_tag": "ABX9TyPTjP3dcclXQoEIcA9FbaDd",
      "include_colab_link": true
    },
    "kernelspec": {
      "display_name": "Python 3",
      "name": "python3"
    },
    "language_info": {
      "name": "python"
    }
  },
  "nbformat": 4,
  "nbformat_minor": 0
}